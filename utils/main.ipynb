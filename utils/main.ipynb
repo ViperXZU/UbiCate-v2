{
 "cells": [
  {
   "cell_type": "code",
   "execution_count": 17,
   "metadata": {},
   "outputs": [],
   "source": [
    "import json\n",
    "import pandas as pd"
   ]
  },
  {
   "cell_type": "code",
   "execution_count": 18,
   "metadata": {},
   "outputs": [],
   "source": [
    "with open(\"../data/places.json\") as places_file:\n",
    "    places_dict = json.load(places_file)"
   ]
  },
  {
   "cell_type": "code",
   "execution_count": 19,
   "metadata": {},
   "outputs": [
    {
     "data": {
      "text/html": [
       "<div>\n",
       "<style scoped>\n",
       "    .dataframe tbody tr th:only-of-type {\n",
       "        vertical-align: middle;\n",
       "    }\n",
       "\n",
       "    .dataframe tbody tr th {\n",
       "        vertical-align: top;\n",
       "    }\n",
       "\n",
       "    .dataframe thead th {\n",
       "        text-align: right;\n",
       "    }\n",
       "</style>\n",
       "<table border=\"1\" class=\"dataframe\">\n",
       "  <thead>\n",
       "    <tr style=\"text-align: right;\">\n",
       "      <th></th>\n",
       "      <th>type</th>\n",
       "      <th>properties.identifier</th>\n",
       "      <th>properties.name</th>\n",
       "      <th>properties.information</th>\n",
       "      <th>properties.categories</th>\n",
       "      <th>properties.campus</th>\n",
       "      <th>properties.faculties</th>\n",
       "      <th>properties.floors</th>\n",
       "      <th>geometry.type</th>\n",
       "      <th>geometry.coordinates</th>\n",
       "    </tr>\n",
       "  </thead>\n",
       "  <tbody>\n",
       "    <tr>\n",
       "      <th>0</th>\n",
       "      <td>Feature</td>\n",
       "      <td>auditorio_ccl</td>\n",
       "      <td>Auditorio construcción civil</td>\n",
       "      <td></td>\n",
       "      <td>[other]</td>\n",
       "      <td>SJ</td>\n",
       "      <td>CCL</td>\n",
       "      <td>[2]</td>\n",
       "      <td>Point</td>\n",
       "      <td>[-70.61364284624105, -33.499000010604604]</td>\n",
       "    </tr>\n",
       "    <tr>\n",
       "      <th>1</th>\n",
       "      <td>Feature</td>\n",
       "      <td>C504-SJ</td>\n",
       "      <td>C504</td>\n",
       "      <td></td>\n",
       "      <td>[classroom]</td>\n",
       "      <td>SJ</td>\n",
       "      <td></td>\n",
       "      <td>[5]</td>\n",
       "      <td>Point</td>\n",
       "      <td>[-70.61410111982357, -33.49887488255148]</td>\n",
       "    </tr>\n",
       "    <tr>\n",
       "      <th>2</th>\n",
       "      <td>Feature</td>\n",
       "      <td>C502-SJ</td>\n",
       "      <td>C502</td>\n",
       "      <td></td>\n",
       "      <td>[classroom]</td>\n",
       "      <td>SJ</td>\n",
       "      <td></td>\n",
       "      <td>[5]</td>\n",
       "      <td>Point</td>\n",
       "      <td>[-70.61409212054254, -33.4989157013247]</td>\n",
       "    </tr>\n",
       "    <tr>\n",
       "      <th>3</th>\n",
       "      <td>Feature</td>\n",
       "      <td>C505-SJ</td>\n",
       "      <td>C505</td>\n",
       "      <td></td>\n",
       "      <td>[classroom]</td>\n",
       "      <td>SJ</td>\n",
       "      <td></td>\n",
       "      <td>[5]</td>\n",
       "      <td>Point</td>\n",
       "      <td>[-70.61410111982357, -33.49887488255148]</td>\n",
       "    </tr>\n",
       "    <tr>\n",
       "      <th>4</th>\n",
       "      <td>Feature</td>\n",
       "      <td>C503-SJ</td>\n",
       "      <td>C503</td>\n",
       "      <td></td>\n",
       "      <td>[classroom]</td>\n",
       "      <td>SJ</td>\n",
       "      <td></td>\n",
       "      <td>[5]</td>\n",
       "      <td>Point</td>\n",
       "      <td>[-70.61409212054254, -33.4989157013247]</td>\n",
       "    </tr>\n",
       "    <tr>\n",
       "      <th>...</th>\n",
       "      <td>...</td>\n",
       "      <td>...</td>\n",
       "      <td>...</td>\n",
       "      <td>...</td>\n",
       "      <td>...</td>\n",
       "      <td>...</td>\n",
       "      <td>...</td>\n",
       "      <td>...</td>\n",
       "      <td>...</td>\n",
       "      <td>...</td>\n",
       "    </tr>\n",
       "    <tr>\n",
       "      <th>782</th>\n",
       "      <td>Feature</td>\n",
       "      <td>METROLOGIA</td>\n",
       "      <td>DICTUC - Metrología</td>\n",
       "      <td></td>\n",
       "      <td></td>\n",
       "      <td>SJ</td>\n",
       "      <td></td>\n",
       "      <td>[2]</td>\n",
       "      <td>Point</td>\n",
       "      <td>[-70.61318693749489, -33.500789937775814]</td>\n",
       "    </tr>\n",
       "    <tr>\n",
       "      <th>783</th>\n",
       "      <td>Feature</td>\n",
       "      <td>Laboratorio ingenieria de materiales</td>\n",
       "      <td>Laboratorio ingeniería de materiales</td>\n",
       "      <td></td>\n",
       "      <td>[laboratory]</td>\n",
       "      <td>SJ</td>\n",
       "      <td>ING</td>\n",
       "      <td>[5]</td>\n",
       "      <td>Point</td>\n",
       "      <td>[-70.612017, -33.5000722]</td>\n",
       "    </tr>\n",
       "    <tr>\n",
       "      <th>784</th>\n",
       "      <td>Feature</td>\n",
       "      <td>Instituto biologia de ingenieria biologica y m...</td>\n",
       "      <td>Instituto biología de ingeniería biológica y m...</td>\n",
       "      <td></td>\n",
       "      <td>[laboratory]</td>\n",
       "      <td>SJ</td>\n",
       "      <td>ING</td>\n",
       "      <td>[7]</td>\n",
       "      <td>Point</td>\n",
       "      <td>[-70.61202318, -33.4999792]</td>\n",
       "    </tr>\n",
       "    <tr>\n",
       "      <th>785</th>\n",
       "      <td>Feature</td>\n",
       "      <td>Laboratorio Electronica y Robotica</td>\n",
       "      <td>Laboratorio Electrónica y Robótica</td>\n",
       "      <td></td>\n",
       "      <td>[laboratory]</td>\n",
       "      <td>SJ</td>\n",
       "      <td>ING</td>\n",
       "      <td>[6]</td>\n",
       "      <td>Point</td>\n",
       "      <td>[-70.61193384, -33.5001874]</td>\n",
       "    </tr>\n",
       "    <tr>\n",
       "      <th>786</th>\n",
       "      <td>Feature</td>\n",
       "      <td>Laboratorio Sustentabilidad y Recursos Criticos</td>\n",
       "      <td>Laboratorio Sustentabilidad y Recursos Críticos</td>\n",
       "      <td></td>\n",
       "      <td>[laboratory]</td>\n",
       "      <td>SJ</td>\n",
       "      <td>ING</td>\n",
       "      <td>[6]</td>\n",
       "      <td>Point</td>\n",
       "      <td>[-70.611909, -33.5003358]</td>\n",
       "    </tr>\n",
       "  </tbody>\n",
       "</table>\n",
       "<p>787 rows × 10 columns</p>\n",
       "</div>"
      ],
      "text/plain": [
       "        type                              properties.identifier  \\\n",
       "0    Feature                                      auditorio_ccl   \n",
       "1    Feature                                            C504-SJ   \n",
       "2    Feature                                            C502-SJ   \n",
       "3    Feature                                            C505-SJ   \n",
       "4    Feature                                            C503-SJ   \n",
       "..       ...                                                ...   \n",
       "782  Feature                                         METROLOGIA   \n",
       "783  Feature               Laboratorio ingenieria de materiales   \n",
       "784  Feature  Instituto biologia de ingenieria biologica y m...   \n",
       "785  Feature                 Laboratorio Electronica y Robotica   \n",
       "786  Feature    Laboratorio Sustentabilidad y Recursos Criticos   \n",
       "\n",
       "                                       properties.name properties.information  \\\n",
       "0                         Auditorio construcción civil                          \n",
       "1                                                 C504                          \n",
       "2                                                 C502                          \n",
       "3                                                 C505                          \n",
       "4                                                 C503                          \n",
       "..                                                 ...                    ...   \n",
       "782                                DICTUC - Metrología                          \n",
       "783               Laboratorio ingeniería de materiales                          \n",
       "784  Instituto biología de ingeniería biológica y m...                          \n",
       "785                 Laboratorio Electrónica y Robótica                          \n",
       "786    Laboratorio Sustentabilidad y Recursos Críticos                          \n",
       "\n",
       "    properties.categories properties.campus properties.faculties  \\\n",
       "0                 [other]                SJ                  CCL   \n",
       "1             [classroom]                SJ                        \n",
       "2             [classroom]                SJ                        \n",
       "3             [classroom]                SJ                        \n",
       "4             [classroom]                SJ                        \n",
       "..                    ...               ...                  ...   \n",
       "782                                      SJ                        \n",
       "783          [laboratory]                SJ                  ING   \n",
       "784          [laboratory]                SJ                  ING   \n",
       "785          [laboratory]                SJ                  ING   \n",
       "786          [laboratory]                SJ                  ING   \n",
       "\n",
       "    properties.floors geometry.type                       geometry.coordinates  \n",
       "0                 [2]         Point  [-70.61364284624105, -33.499000010604604]  \n",
       "1                 [5]         Point   [-70.61410111982357, -33.49887488255148]  \n",
       "2                 [5]         Point    [-70.61409212054254, -33.4989157013247]  \n",
       "3                 [5]         Point   [-70.61410111982357, -33.49887488255148]  \n",
       "4                 [5]         Point    [-70.61409212054254, -33.4989157013247]  \n",
       "..                ...           ...                                        ...  \n",
       "782               [2]         Point  [-70.61318693749489, -33.500789937775814]  \n",
       "783               [5]         Point                  [-70.612017, -33.5000722]  \n",
       "784               [7]         Point                [-70.61202318, -33.4999792]  \n",
       "785               [6]         Point                [-70.61193384, -33.5001874]  \n",
       "786               [6]         Point                  [-70.611909, -33.5003358]  \n",
       "\n",
       "[787 rows x 10 columns]"
      ]
     },
     "execution_count": 19,
     "metadata": {},
     "output_type": "execute_result"
    }
   ],
   "source": [
    "df_places = pd.json_normalize(places_dict, record_path=\"features\")\n",
    "df_places"
   ]
  },
  {
   "cell_type": "code",
   "execution_count": 20,
   "metadata": {},
   "outputs": [
    {
     "ename": "KeyError",
     "evalue": "'properties.category'",
     "output_type": "error",
     "traceback": [
      "\u001b[0;31m---------------------------------------------------------------------------\u001b[0m",
      "\u001b[0;31mKeyError\u001b[0m                                  Traceback (most recent call last)",
      "File \u001b[0;32m~/.local/lib/python3.10/site-packages/pandas/core/indexes/base.py:3805\u001b[0m, in \u001b[0;36mIndex.get_loc\u001b[0;34m(self, key)\u001b[0m\n\u001b[1;32m   3804\u001b[0m \u001b[38;5;28;01mtry\u001b[39;00m:\n\u001b[0;32m-> 3805\u001b[0m     \u001b[38;5;28;01mreturn\u001b[39;00m \u001b[38;5;28;43mself\u001b[39;49m\u001b[38;5;241;43m.\u001b[39;49m\u001b[43m_engine\u001b[49m\u001b[38;5;241;43m.\u001b[39;49m\u001b[43mget_loc\u001b[49m\u001b[43m(\u001b[49m\u001b[43mcasted_key\u001b[49m\u001b[43m)\u001b[49m\n\u001b[1;32m   3806\u001b[0m \u001b[38;5;28;01mexcept\u001b[39;00m \u001b[38;5;167;01mKeyError\u001b[39;00m \u001b[38;5;28;01mas\u001b[39;00m err:\n",
      "File \u001b[0;32mindex.pyx:167\u001b[0m, in \u001b[0;36mpandas._libs.index.IndexEngine.get_loc\u001b[0;34m()\u001b[0m\n",
      "File \u001b[0;32mindex.pyx:196\u001b[0m, in \u001b[0;36mpandas._libs.index.IndexEngine.get_loc\u001b[0;34m()\u001b[0m\n",
      "File \u001b[0;32mpandas/_libs/hashtable_class_helper.pxi:7081\u001b[0m, in \u001b[0;36mpandas._libs.hashtable.PyObjectHashTable.get_item\u001b[0;34m()\u001b[0m\n",
      "File \u001b[0;32mpandas/_libs/hashtable_class_helper.pxi:7089\u001b[0m, in \u001b[0;36mpandas._libs.hashtable.PyObjectHashTable.get_item\u001b[0;34m()\u001b[0m\n",
      "\u001b[0;31mKeyError\u001b[0m: 'properties.category'",
      "\nThe above exception was the direct cause of the following exception:\n",
      "\u001b[0;31mKeyError\u001b[0m                                  Traceback (most recent call last)",
      "Cell \u001b[0;32mIn[20], line 5\u001b[0m\n\u001b[1;32m      1\u001b[0m df_places\u001b[38;5;241m.\u001b[39mloc[\n\u001b[1;32m      2\u001b[0m     (df_places[\u001b[38;5;124m\"\u001b[39m\u001b[38;5;124mproperties.categories\u001b[39m\u001b[38;5;124m\"\u001b[39m] \u001b[38;5;241m==\u001b[39m \u001b[38;5;124m\"\u001b[39m\u001b[38;5;124m\"\u001b[39m) \u001b[38;5;241m&\u001b[39m (df_places[\u001b[38;5;124m\"\u001b[39m\u001b[38;5;124mproperties.category\u001b[39m\u001b[38;5;124m\"\u001b[39m] \u001b[38;5;241m!=\u001b[39m \u001b[38;5;124m\"\u001b[39m\u001b[38;5;124m\"\u001b[39m),\n\u001b[1;32m      3\u001b[0m     \u001b[38;5;124m\"\u001b[39m\u001b[38;5;124mproperties.categories\u001b[39m\u001b[38;5;124m\"\u001b[39m\n\u001b[1;32m      4\u001b[0m ] \u001b[38;5;241m=\u001b[39m df_places\u001b[38;5;241m.\u001b[39mloc[\n\u001b[0;32m----> 5\u001b[0m     (df_places[\u001b[38;5;124m\"\u001b[39m\u001b[38;5;124mproperties.categories\u001b[39m\u001b[38;5;124m\"\u001b[39m] \u001b[38;5;241m==\u001b[39m \u001b[38;5;124m\"\u001b[39m\u001b[38;5;124m\"\u001b[39m) \u001b[38;5;241m&\u001b[39m (\u001b[43mdf_places\u001b[49m\u001b[43m[\u001b[49m\u001b[38;5;124;43m\"\u001b[39;49m\u001b[38;5;124;43mproperties.category\u001b[39;49m\u001b[38;5;124;43m\"\u001b[39;49m\u001b[43m]\u001b[49m \u001b[38;5;241m!=\u001b[39m \u001b[38;5;124m\"\u001b[39m\u001b[38;5;124m\"\u001b[39m),\n\u001b[1;32m      6\u001b[0m     \u001b[38;5;124m\"\u001b[39m\u001b[38;5;124mproperties.category\u001b[39m\u001b[38;5;124m\"\u001b[39m\n\u001b[1;32m      7\u001b[0m ]\n",
      "File \u001b[0;32m~/.local/lib/python3.10/site-packages/pandas/core/frame.py:4102\u001b[0m, in \u001b[0;36mDataFrame.__getitem__\u001b[0;34m(self, key)\u001b[0m\n\u001b[1;32m   4100\u001b[0m \u001b[38;5;28;01mif\u001b[39;00m \u001b[38;5;28mself\u001b[39m\u001b[38;5;241m.\u001b[39mcolumns\u001b[38;5;241m.\u001b[39mnlevels \u001b[38;5;241m>\u001b[39m \u001b[38;5;241m1\u001b[39m:\n\u001b[1;32m   4101\u001b[0m     \u001b[38;5;28;01mreturn\u001b[39;00m \u001b[38;5;28mself\u001b[39m\u001b[38;5;241m.\u001b[39m_getitem_multilevel(key)\n\u001b[0;32m-> 4102\u001b[0m indexer \u001b[38;5;241m=\u001b[39m \u001b[38;5;28;43mself\u001b[39;49m\u001b[38;5;241;43m.\u001b[39;49m\u001b[43mcolumns\u001b[49m\u001b[38;5;241;43m.\u001b[39;49m\u001b[43mget_loc\u001b[49m\u001b[43m(\u001b[49m\u001b[43mkey\u001b[49m\u001b[43m)\u001b[49m\n\u001b[1;32m   4103\u001b[0m \u001b[38;5;28;01mif\u001b[39;00m is_integer(indexer):\n\u001b[1;32m   4104\u001b[0m     indexer \u001b[38;5;241m=\u001b[39m [indexer]\n",
      "File \u001b[0;32m~/.local/lib/python3.10/site-packages/pandas/core/indexes/base.py:3812\u001b[0m, in \u001b[0;36mIndex.get_loc\u001b[0;34m(self, key)\u001b[0m\n\u001b[1;32m   3807\u001b[0m     \u001b[38;5;28;01mif\u001b[39;00m \u001b[38;5;28misinstance\u001b[39m(casted_key, \u001b[38;5;28mslice\u001b[39m) \u001b[38;5;129;01mor\u001b[39;00m (\n\u001b[1;32m   3808\u001b[0m         \u001b[38;5;28misinstance\u001b[39m(casted_key, abc\u001b[38;5;241m.\u001b[39mIterable)\n\u001b[1;32m   3809\u001b[0m         \u001b[38;5;129;01mand\u001b[39;00m \u001b[38;5;28many\u001b[39m(\u001b[38;5;28misinstance\u001b[39m(x, \u001b[38;5;28mslice\u001b[39m) \u001b[38;5;28;01mfor\u001b[39;00m x \u001b[38;5;129;01min\u001b[39;00m casted_key)\n\u001b[1;32m   3810\u001b[0m     ):\n\u001b[1;32m   3811\u001b[0m         \u001b[38;5;28;01mraise\u001b[39;00m InvalidIndexError(key)\n\u001b[0;32m-> 3812\u001b[0m     \u001b[38;5;28;01mraise\u001b[39;00m \u001b[38;5;167;01mKeyError\u001b[39;00m(key) \u001b[38;5;28;01mfrom\u001b[39;00m \u001b[38;5;21;01merr\u001b[39;00m\n\u001b[1;32m   3813\u001b[0m \u001b[38;5;28;01mexcept\u001b[39;00m \u001b[38;5;167;01mTypeError\u001b[39;00m:\n\u001b[1;32m   3814\u001b[0m     \u001b[38;5;66;03m# If we have a listlike key, _check_indexing_error will raise\u001b[39;00m\n\u001b[1;32m   3815\u001b[0m     \u001b[38;5;66;03m#  InvalidIndexError. Otherwise we fall through and re-raise\u001b[39;00m\n\u001b[1;32m   3816\u001b[0m     \u001b[38;5;66;03m#  the TypeError.\u001b[39;00m\n\u001b[1;32m   3817\u001b[0m     \u001b[38;5;28mself\u001b[39m\u001b[38;5;241m.\u001b[39m_check_indexing_error(key)\n",
      "\u001b[0;31mKeyError\u001b[0m: 'properties.category'"
     ]
    }
   ],
   "source": [
    "df_places.loc[\n",
    "    (df_places[\"properties.categories\"] == \"\") & (df_places[\"properties.category\"] != \"\"),\n",
    "    \"properties.categories\"\n",
    "] = df_places.loc[\n",
    "    (df_places[\"properties.categories\"] == \"\") & (df_places[\"properties.category\"] != \"\"),\n",
    "    \"properties.category\"\n",
    "]\n"
   ]
  },
  {
   "cell_type": "code",
   "execution_count": 101,
   "metadata": {},
   "outputs": [],
   "source": [
    "## df_places[(df_places[\"properties.categories\"] != \"\") & (df_places[\"properties.category\"] != \"\")]\n",
    "\n",
    "# Revisando estos datos, esta claro que categories siempre tendra prioridad sobre category, sobre todo porque el Rocka actualiza manualmente los datos y estos se actualizan solo en category."
   ]
  },
  {
   "cell_type": "code",
   "execution_count": 21,
   "metadata": {},
   "outputs": [
    {
     "data": {
      "text/plain": [
       "Index(['type', 'properties.identifier', 'properties.name',\n",
       "       'properties.information', 'properties.categories', 'properties.campus',\n",
       "       'properties.faculties', 'properties.floors', 'geometry.type',\n",
       "       'geometry.coordinates'],\n",
       "      dtype='object')"
      ]
     },
     "execution_count": 21,
     "metadata": {},
     "output_type": "execute_result"
    }
   ],
   "source": [
    "df_places.columns"
   ]
  },
  {
   "cell_type": "code",
   "execution_count": 22,
   "metadata": {},
   "outputs": [
    {
     "ename": "KeyError",
     "evalue": "\"['properties.category'] not found in axis\"",
     "output_type": "error",
     "traceback": [
      "\u001b[0;31m---------------------------------------------------------------------------\u001b[0m",
      "\u001b[0;31mKeyError\u001b[0m                                  Traceback (most recent call last)",
      "Cell \u001b[0;32mIn[22], line 1\u001b[0m\n\u001b[0;32m----> 1\u001b[0m \u001b[43mdf_places\u001b[49m\u001b[38;5;241;43m.\u001b[39;49m\u001b[43mdrop\u001b[49m\u001b[43m(\u001b[49m\u001b[43mcolumns\u001b[49m\u001b[38;5;241;43m=\u001b[39;49m\u001b[43m[\u001b[49m\u001b[38;5;124;43m\"\u001b[39;49m\u001b[38;5;124;43mproperties.category\u001b[39;49m\u001b[38;5;124;43m\"\u001b[39;49m\u001b[43m]\u001b[49m\u001b[43m,\u001b[49m\u001b[43m \u001b[49m\u001b[43minplace\u001b[49m\u001b[38;5;241;43m=\u001b[39;49m\u001b[38;5;28;43;01mTrue\u001b[39;49;00m\u001b[43m)\u001b[49m\n",
      "File \u001b[0;32m~/.local/lib/python3.10/site-packages/pandas/core/frame.py:5581\u001b[0m, in \u001b[0;36mDataFrame.drop\u001b[0;34m(self, labels, axis, index, columns, level, inplace, errors)\u001b[0m\n\u001b[1;32m   5433\u001b[0m \u001b[38;5;28;01mdef\u001b[39;00m \u001b[38;5;21mdrop\u001b[39m(\n\u001b[1;32m   5434\u001b[0m     \u001b[38;5;28mself\u001b[39m,\n\u001b[1;32m   5435\u001b[0m     labels: IndexLabel \u001b[38;5;241m|\u001b[39m \u001b[38;5;28;01mNone\u001b[39;00m \u001b[38;5;241m=\u001b[39m \u001b[38;5;28;01mNone\u001b[39;00m,\n\u001b[0;32m   (...)\u001b[0m\n\u001b[1;32m   5442\u001b[0m     errors: IgnoreRaise \u001b[38;5;241m=\u001b[39m \u001b[38;5;124m\"\u001b[39m\u001b[38;5;124mraise\u001b[39m\u001b[38;5;124m\"\u001b[39m,\n\u001b[1;32m   5443\u001b[0m ) \u001b[38;5;241m-\u001b[39m\u001b[38;5;241m>\u001b[39m DataFrame \u001b[38;5;241m|\u001b[39m \u001b[38;5;28;01mNone\u001b[39;00m:\n\u001b[1;32m   5444\u001b[0m \u001b[38;5;250m    \u001b[39m\u001b[38;5;124;03m\"\"\"\u001b[39;00m\n\u001b[1;32m   5445\u001b[0m \u001b[38;5;124;03m    Drop specified labels from rows or columns.\u001b[39;00m\n\u001b[1;32m   5446\u001b[0m \n\u001b[0;32m   (...)\u001b[0m\n\u001b[1;32m   5579\u001b[0m \u001b[38;5;124;03m            weight  1.0     0.8\u001b[39;00m\n\u001b[1;32m   5580\u001b[0m \u001b[38;5;124;03m    \"\"\"\u001b[39;00m\n\u001b[0;32m-> 5581\u001b[0m     \u001b[38;5;28;01mreturn\u001b[39;00m \u001b[38;5;28;43msuper\u001b[39;49m\u001b[43m(\u001b[49m\u001b[43m)\u001b[49m\u001b[38;5;241;43m.\u001b[39;49m\u001b[43mdrop\u001b[49m\u001b[43m(\u001b[49m\n\u001b[1;32m   5582\u001b[0m \u001b[43m        \u001b[49m\u001b[43mlabels\u001b[49m\u001b[38;5;241;43m=\u001b[39;49m\u001b[43mlabels\u001b[49m\u001b[43m,\u001b[49m\n\u001b[1;32m   5583\u001b[0m \u001b[43m        \u001b[49m\u001b[43maxis\u001b[49m\u001b[38;5;241;43m=\u001b[39;49m\u001b[43maxis\u001b[49m\u001b[43m,\u001b[49m\n\u001b[1;32m   5584\u001b[0m \u001b[43m        \u001b[49m\u001b[43mindex\u001b[49m\u001b[38;5;241;43m=\u001b[39;49m\u001b[43mindex\u001b[49m\u001b[43m,\u001b[49m\n\u001b[1;32m   5585\u001b[0m \u001b[43m        \u001b[49m\u001b[43mcolumns\u001b[49m\u001b[38;5;241;43m=\u001b[39;49m\u001b[43mcolumns\u001b[49m\u001b[43m,\u001b[49m\n\u001b[1;32m   5586\u001b[0m \u001b[43m        \u001b[49m\u001b[43mlevel\u001b[49m\u001b[38;5;241;43m=\u001b[39;49m\u001b[43mlevel\u001b[49m\u001b[43m,\u001b[49m\n\u001b[1;32m   5587\u001b[0m \u001b[43m        \u001b[49m\u001b[43minplace\u001b[49m\u001b[38;5;241;43m=\u001b[39;49m\u001b[43minplace\u001b[49m\u001b[43m,\u001b[49m\n\u001b[1;32m   5588\u001b[0m \u001b[43m        \u001b[49m\u001b[43merrors\u001b[49m\u001b[38;5;241;43m=\u001b[39;49m\u001b[43merrors\u001b[49m\u001b[43m,\u001b[49m\n\u001b[1;32m   5589\u001b[0m \u001b[43m    \u001b[49m\u001b[43m)\u001b[49m\n",
      "File \u001b[0;32m~/.local/lib/python3.10/site-packages/pandas/core/generic.py:4788\u001b[0m, in \u001b[0;36mNDFrame.drop\u001b[0;34m(self, labels, axis, index, columns, level, inplace, errors)\u001b[0m\n\u001b[1;32m   4786\u001b[0m \u001b[38;5;28;01mfor\u001b[39;00m axis, labels \u001b[38;5;129;01min\u001b[39;00m axes\u001b[38;5;241m.\u001b[39mitems():\n\u001b[1;32m   4787\u001b[0m     \u001b[38;5;28;01mif\u001b[39;00m labels \u001b[38;5;129;01mis\u001b[39;00m \u001b[38;5;129;01mnot\u001b[39;00m \u001b[38;5;28;01mNone\u001b[39;00m:\n\u001b[0;32m-> 4788\u001b[0m         obj \u001b[38;5;241m=\u001b[39m \u001b[43mobj\u001b[49m\u001b[38;5;241;43m.\u001b[39;49m\u001b[43m_drop_axis\u001b[49m\u001b[43m(\u001b[49m\u001b[43mlabels\u001b[49m\u001b[43m,\u001b[49m\u001b[43m \u001b[49m\u001b[43maxis\u001b[49m\u001b[43m,\u001b[49m\u001b[43m \u001b[49m\u001b[43mlevel\u001b[49m\u001b[38;5;241;43m=\u001b[39;49m\u001b[43mlevel\u001b[49m\u001b[43m,\u001b[49m\u001b[43m \u001b[49m\u001b[43merrors\u001b[49m\u001b[38;5;241;43m=\u001b[39;49m\u001b[43merrors\u001b[49m\u001b[43m)\u001b[49m\n\u001b[1;32m   4790\u001b[0m \u001b[38;5;28;01mif\u001b[39;00m inplace:\n\u001b[1;32m   4791\u001b[0m     \u001b[38;5;28mself\u001b[39m\u001b[38;5;241m.\u001b[39m_update_inplace(obj)\n",
      "File \u001b[0;32m~/.local/lib/python3.10/site-packages/pandas/core/generic.py:4830\u001b[0m, in \u001b[0;36mNDFrame._drop_axis\u001b[0;34m(self, labels, axis, level, errors, only_slice)\u001b[0m\n\u001b[1;32m   4828\u001b[0m         new_axis \u001b[38;5;241m=\u001b[39m axis\u001b[38;5;241m.\u001b[39mdrop(labels, level\u001b[38;5;241m=\u001b[39mlevel, errors\u001b[38;5;241m=\u001b[39merrors)\n\u001b[1;32m   4829\u001b[0m     \u001b[38;5;28;01melse\u001b[39;00m:\n\u001b[0;32m-> 4830\u001b[0m         new_axis \u001b[38;5;241m=\u001b[39m \u001b[43maxis\u001b[49m\u001b[38;5;241;43m.\u001b[39;49m\u001b[43mdrop\u001b[49m\u001b[43m(\u001b[49m\u001b[43mlabels\u001b[49m\u001b[43m,\u001b[49m\u001b[43m \u001b[49m\u001b[43merrors\u001b[49m\u001b[38;5;241;43m=\u001b[39;49m\u001b[43merrors\u001b[49m\u001b[43m)\u001b[49m\n\u001b[1;32m   4831\u001b[0m     indexer \u001b[38;5;241m=\u001b[39m axis\u001b[38;5;241m.\u001b[39mget_indexer(new_axis)\n\u001b[1;32m   4833\u001b[0m \u001b[38;5;66;03m# Case for non-unique axis\u001b[39;00m\n\u001b[1;32m   4834\u001b[0m \u001b[38;5;28;01melse\u001b[39;00m:\n",
      "File \u001b[0;32m~/.local/lib/python3.10/site-packages/pandas/core/indexes/base.py:7070\u001b[0m, in \u001b[0;36mIndex.drop\u001b[0;34m(self, labels, errors)\u001b[0m\n\u001b[1;32m   7068\u001b[0m \u001b[38;5;28;01mif\u001b[39;00m mask\u001b[38;5;241m.\u001b[39many():\n\u001b[1;32m   7069\u001b[0m     \u001b[38;5;28;01mif\u001b[39;00m errors \u001b[38;5;241m!=\u001b[39m \u001b[38;5;124m\"\u001b[39m\u001b[38;5;124mignore\u001b[39m\u001b[38;5;124m\"\u001b[39m:\n\u001b[0;32m-> 7070\u001b[0m         \u001b[38;5;28;01mraise\u001b[39;00m \u001b[38;5;167;01mKeyError\u001b[39;00m(\u001b[38;5;124mf\u001b[39m\u001b[38;5;124m\"\u001b[39m\u001b[38;5;132;01m{\u001b[39;00mlabels[mask]\u001b[38;5;241m.\u001b[39mtolist()\u001b[38;5;132;01m}\u001b[39;00m\u001b[38;5;124m not found in axis\u001b[39m\u001b[38;5;124m\"\u001b[39m)\n\u001b[1;32m   7071\u001b[0m     indexer \u001b[38;5;241m=\u001b[39m indexer[\u001b[38;5;241m~\u001b[39mmask]\n\u001b[1;32m   7072\u001b[0m \u001b[38;5;28;01mreturn\u001b[39;00m \u001b[38;5;28mself\u001b[39m\u001b[38;5;241m.\u001b[39mdelete(indexer)\n",
      "\u001b[0;31mKeyError\u001b[0m: \"['properties.category'] not found in axis\""
     ]
    }
   ],
   "source": [
    "df_places.drop(columns=[\"properties.category\"], inplace=True)"
   ]
  },
  {
   "cell_type": "code",
   "execution_count": 23,
   "metadata": {},
   "outputs": [
    {
     "data": {
      "text/plain": [
       "0           [other]\n",
       "1       [classroom]\n",
       "2       [classroom]\n",
       "3       [classroom]\n",
       "4       [classroom]\n",
       "           ...     \n",
       "782                \n",
       "783    [laboratory]\n",
       "784    [laboratory]\n",
       "785    [laboratory]\n",
       "786    [laboratory]\n",
       "Name: properties.categories, Length: 787, dtype: object"
      ]
     },
     "execution_count": 23,
     "metadata": {},
     "output_type": "execute_result"
    }
   ],
   "source": [
    "df_places[\"properties.categories\"]"
   ]
  },
  {
   "cell_type": "code",
   "execution_count": 24,
   "metadata": {},
   "outputs": [
    {
     "data": {
      "text/plain": [
       "[0       True\n",
       " 1       True\n",
       " 2       True\n",
       " 3       True\n",
       " 4       True\n",
       "        ...  \n",
       " 782    False\n",
       " 783     True\n",
       " 784     True\n",
       " 785     True\n",
       " 786     True\n",
       " Name: properties.categories, Length: 787, dtype: bool]"
      ]
     },
     "execution_count": 24,
     "metadata": {},
     "output_type": "execute_result"
    }
   ],
   "source": [
    "[~ df_places['properties.categories'].apply(lambda x: isinstance(x, (str)))]"
   ]
  },
  {
   "cell_type": "code",
   "execution_count": 25,
   "metadata": {},
   "outputs": [
    {
     "data": {
      "text/html": [
       "<div>\n",
       "<style scoped>\n",
       "    .dataframe tbody tr th:only-of-type {\n",
       "        vertical-align: middle;\n",
       "    }\n",
       "\n",
       "    .dataframe tbody tr th {\n",
       "        vertical-align: top;\n",
       "    }\n",
       "\n",
       "    .dataframe thead th {\n",
       "        text-align: right;\n",
       "    }\n",
       "</style>\n",
       "<table border=\"1\" class=\"dataframe\">\n",
       "  <thead>\n",
       "    <tr style=\"text-align: right;\">\n",
       "      <th></th>\n",
       "      <th>type</th>\n",
       "      <th>properties.identifier</th>\n",
       "      <th>properties.name</th>\n",
       "      <th>properties.information</th>\n",
       "      <th>properties.categories</th>\n",
       "      <th>properties.campus</th>\n",
       "      <th>properties.faculties</th>\n",
       "      <th>properties.floors</th>\n",
       "      <th>geometry.type</th>\n",
       "      <th>geometry.coordinates</th>\n",
       "    </tr>\n",
       "  </thead>\n",
       "  <tbody>\n",
       "    <tr>\n",
       "      <th>781</th>\n",
       "      <td>Feature</td>\n",
       "      <td>Auditorio edificio pataguas</td>\n",
       "      <td>Auditorio edificio pataguas</td>\n",
       "      <td>Facultad de Economía</td>\n",
       "      <td></td>\n",
       "      <td>SJ</td>\n",
       "      <td></td>\n",
       "      <td>[-1]</td>\n",
       "      <td>Point</td>\n",
       "      <td>[-70.61025614045515, -33.49666302388468]</td>\n",
       "    </tr>\n",
       "    <tr>\n",
       "      <th>782</th>\n",
       "      <td>Feature</td>\n",
       "      <td>METROLOGIA</td>\n",
       "      <td>DICTUC - Metrología</td>\n",
       "      <td></td>\n",
       "      <td></td>\n",
       "      <td>SJ</td>\n",
       "      <td></td>\n",
       "      <td>[2]</td>\n",
       "      <td>Point</td>\n",
       "      <td>[-70.61318693749489, -33.500789937775814]</td>\n",
       "    </tr>\n",
       "  </tbody>\n",
       "</table>\n",
       "</div>"
      ],
      "text/plain": [
       "        type        properties.identifier              properties.name  \\\n",
       "781  Feature  Auditorio edificio pataguas  Auditorio edificio pataguas   \n",
       "782  Feature                   METROLOGIA          DICTUC - Metrología   \n",
       "\n",
       "    properties.information properties.categories properties.campus  \\\n",
       "781   Facultad de Economía                                      SJ   \n",
       "782                                                             SJ   \n",
       "\n",
       "    properties.faculties properties.floors geometry.type  \\\n",
       "781                                   [-1]         Point   \n",
       "782                                    [2]         Point   \n",
       "\n",
       "                          geometry.coordinates  \n",
       "781   [-70.61025614045515, -33.49666302388468]  \n",
       "782  [-70.61318693749489, -33.500789937775814]  "
      ]
     },
     "execution_count": 25,
     "metadata": {},
     "output_type": "execute_result"
    }
   ],
   "source": [
    "df_places[~df_places['properties.categories'].apply(lambda x: isinstance(x, (list)))]"
   ]
  },
  {
   "cell_type": "code",
   "execution_count": 26,
   "metadata": {},
   "outputs": [],
   "source": [
    "def string_to_array(x):\n",
    "    return [x] if x else x\n",
    "\n",
    "df_places.loc[\n",
    "    (df_places['properties.categories'].apply(lambda x: isinstance(x, (str)))),\n",
    "    \"properties.categories\"\n",
    "] = df_places.loc[\n",
    "    (df_places['properties.categories'].apply(lambda x: isinstance(x, (str)))),\n",
    "    \"properties.categories\"\n",
    "].apply(string_to_array)"
   ]
  },
  {
   "cell_type": "code",
   "execution_count": 27,
   "metadata": {},
   "outputs": [],
   "source": [
    "df_places['properties'] = df_places.apply(lambda row: {\n",
    "    'floors': row['properties.floors'],\n",
    "    'categories': row['properties.categories']\n",
    "}, axis=1)\n",
    "\n",
    "df_places['geometry'] = df_places.apply(lambda row: {\n",
    "    'type': row['geometry.type']\n",
    "}, axis=1)"
   ]
  },
  {
   "cell_type": "code",
   "execution_count": 40,
   "metadata": {},
   "outputs": [
    {
     "data": {
      "text/plain": [
       "array(['other', 'classroom', 'bath', 'laboratory', 'studyroom',\n",
       "       'food_lunch', 'water', 'financial', 'sports_place', 'auditorium',\n",
       "       'trash', 'computers', 'photocopy', 'park_bicycle', '', 'printer'],\n",
       "      dtype=object)"
      ]
     },
     "execution_count": 40,
     "metadata": {},
     "output_type": "execute_result"
    }
   ],
   "source": [
    "df_places[\"properties.categories\"].explode().unique()"
   ]
  },
  {
   "cell_type": "code",
   "execution_count": 35,
   "metadata": {},
   "outputs": [],
   "source": [
    "df_places[\"properties.floors\"] = df_places[\"properties.floors\"].apply(lambda x: [1 if i == 0 else i for i in x])"
   ]
  },
  {
   "cell_type": "code",
   "execution_count": 36,
   "metadata": {},
   "outputs": [],
   "source": [
    "def build_feature(row):\n",
    "    return {\n",
    "        \"type\": row['type'],\n",
    "        \"properties\": {\n",
    "            \"identifier\": row['properties.identifier'],\n",
    "            \"name\": row['properties.name'],\n",
    "            \"information\": row['properties.information'],\n",
    "            \"categories\": row['properties.categories'],\n",
    "            \"campus\": row['properties.campus'],\n",
    "            \"faculties\": row['properties.faculties'],\n",
    "            \"floors\": row['properties.floors'],\n",
    "        },\n",
    "        \"geometry\": {\n",
    "            \"type\": row['geometry.type'],\n",
    "            \"coordinates\": row['geometry.coordinates']\n",
    "        }\n",
    "    }"
   ]
  },
  {
   "cell_type": "code",
   "execution_count": 37,
   "metadata": {},
   "outputs": [],
   "source": [
    "geojson = {\n",
    "    \"type\": \"FeatureCollection\",\n",
    "    \"features\": df_places.apply(build_feature, axis=1).tolist()\n",
    "}\n"
   ]
  },
  {
   "cell_type": "code",
   "execution_count": 38,
   "metadata": {},
   "outputs": [],
   "source": [
    "geojson_str = json.dumps(geojson, indent=4)\n"
   ]
  },
  {
   "cell_type": "code",
   "execution_count": 39,
   "metadata": {},
   "outputs": [],
   "source": [
    "with open(\"./places.json\", \"w\") as f:\n",
    "    f.write(geojson_str)"
   ]
  }
 ],
 "metadata": {
  "kernelspec": {
   "display_name": "Python 3",
   "language": "python",
   "name": "python3"
  },
  "language_info": {
   "codemirror_mode": {
    "name": "ipython",
    "version": 3
   },
   "file_extension": ".py",
   "mimetype": "text/x-python",
   "name": "python",
   "nbconvert_exporter": "python",
   "pygments_lexer": "ipython3",
   "version": "3.10.12"
  }
 },
 "nbformat": 4,
 "nbformat_minor": 2
}
