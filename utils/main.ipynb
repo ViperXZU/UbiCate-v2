{
 "cells": [
  {
   "cell_type": "code",
   "execution_count": 1,
   "metadata": {},
   "outputs": [
    {
     "name": "stdout",
     "output_type": "stream",
     "text": [
      "Requirement already satisfied: jsonschema in /home/rocka/p/UbiCate-v2/.venv/lib/python3.12/site-packages (4.25.0)\n",
      "Requirement already satisfied: attrs>=22.2.0 in /home/rocka/p/UbiCate-v2/.venv/lib/python3.12/site-packages (from jsonschema) (25.3.0)\n",
      "Requirement already satisfied: jsonschema-specifications>=2023.03.6 in /home/rocka/p/UbiCate-v2/.venv/lib/python3.12/site-packages (from jsonschema) (2025.4.1)\n",
      "Requirement already satisfied: referencing>=0.28.4 in /home/rocka/p/UbiCate-v2/.venv/lib/python3.12/site-packages (from jsonschema) (0.36.2)\n",
      "Requirement already satisfied: rpds-py>=0.7.1 in /home/rocka/p/UbiCate-v2/.venv/lib/python3.12/site-packages (from jsonschema) (0.26.0)\n",
      "Requirement already satisfied: typing-extensions>=4.4.0 in /home/rocka/p/UbiCate-v2/.venv/lib/python3.12/site-packages (from referencing>=0.28.4->jsonschema) (4.14.1)\n"
     ]
    }
   ],
   "source": [
    "!pip3 install jsonschema\n"
   ]
  },
  {
   "cell_type": "code",
   "execution_count": 2,
   "metadata": {},
   "outputs": [],
   "source": [
    "import json"
   ]
  },
  {
   "cell_type": "code",
   "execution_count": 3,
   "metadata": {},
   "outputs": [],
   "source": [
    "with open(\"../data/places.json\") as places_file:\n",
    "    places_dict = json.load(places_file)"
   ]
  },
  {
   "cell_type": "code",
   "execution_count": 4,
   "metadata": {},
   "outputs": [
    {
     "data": {
      "text/plain": [
       "[{'identifier': 'bienvenida_2025-19',\n",
       "  'name': 'Cristales de colores. Educación',\n",
       "  'campus': 'SJ',\n",
       "  'information': '',\n",
       "  'categories': ['other'],\n",
       "  'faculties': [],\n",
       "  'floors': [1]},\n",
       " {'identifier': 'bienvenida_2025-11',\n",
       "  'name': 'Casillero 666',\n",
       "  'campus': 'SJ',\n",
       "  'information': '',\n",
       "  'categories': ['other'],\n",
       "  'faculties': [],\n",
       "  'floors': [1]}]"
      ]
     },
     "execution_count": 4,
     "metadata": {},
     "output_type": "execute_result"
    }
   ],
   "source": [
    "features = places_dict[\"features\"]\n",
    "properties = list(map(lambda x: x[\"properties\"], features))\n",
    "properties[:2]"
   ]
  },
  {
   "cell_type": "code",
   "execution_count": 5,
   "metadata": {},
   "outputs": [],
   "source": [
    "from jsonschema import validate, ValidationError\n"
   ]
  },
  {
   "cell_type": "code",
   "execution_count": 7,
   "metadata": {},
   "outputs": [],
   "source": [
    "schema = {\n",
    "    \"type\": \"object\",\n",
    "    \"properties\": {\n",
    "        \"identifier\": {\"type\": \"string\"},\n",
    "        \"name\": {\"type\": \"string\"},\n",
    "        \"information\": {\"type\": \"string\"},\n",
    "        \"categories\": {\n",
    "            \"type\": \"array\",\n",
    "            \"items\": {\"type\": \"string\"}\n",
    "        },\n",
    "        \"campus\": {\"type\": \"string\"},\n",
    "        \"faculties\": {\n",
    "            \"type\": \"array\",\n",
    "            \"items\": {\"type\": \"string\"}\n",
    "        },\n",
    "        \"floors\": {\n",
    "            \"type\": \"array\",\n",
    "            \"items\": {\"type\": \"number\"}\n",
    "        }\n",
    "    },\n",
    "    \"required\": [\"identifier\", \"name\", \"information\", \"categories\", \"campus\", \"faculties\"],\n",
    "    \"additionalProperties\": False\n",
    "}"
   ]
  },
  {
   "cell_type": "code",
   "execution_count": 8,
   "metadata": {},
   "outputs": [
    {
     "name": "stdout",
     "output_type": "stream",
     "text": [
      "Valores iniciales: 1263\n",
      "Items eliminados (falta id/name/campus): 0\n",
      "Total de items válidos: 1263\n",
      "Total de items inválidos: 0\n",
      "\n",
      "Items procesados válidos: 1263\n",
      "\n",
      "Primeros 3 items válidos:\n",
      "  1: {'identifier': 'bienvenida_2025-19', 'name': 'Cristales de colores. Educación', 'campus': 'SJ', 'information': '', 'categories': ['other'], 'faculties': [], 'floors': [1]}\n",
      "  2: {'identifier': 'bienvenida_2025-11', 'name': 'Casillero 666', 'campus': 'SJ', 'information': '', 'categories': ['other'], 'faculties': [], 'floors': [1]}\n",
      "  3: {'identifier': 'bienvenida_2025-10', 'name': 'Los peces de sociales', 'campus': 'SJ', 'information': '', 'categories': ['other'], 'faculties': [], 'floors': [1]}\n"
     ]
    }
   ],
   "source": [
    "def process_item(instance):\n",
    "    \"\"\"\n",
    "    Procesa un elemento aplicando las reglas específicas:\n",
    "    - Si no tiene id o es \"\", se borra el item\n",
    "    - Si no tiene nombre o es \"\", se borra el item  \n",
    "    - Si no tiene information, se pone \"\"\n",
    "    - Si no tiene categories, se pone []\n",
    "    - Si no tiene campus o es \"\", se borra el item\n",
    "    - Si no tiene faculties, se pone []\n",
    "    - Si faculties es un string, se convierte a array [string]\n",
    "    - floors es opcional\n",
    "    - Se eliminan propiedades extra no definidas en el schema\n",
    "    \"\"\"\n",
    "    if not isinstance(instance, dict):\n",
    "        return None\n",
    "    \n",
    "    # Verificar campos obligatorios que causan borrado\n",
    "    if not instance.get(\"identifier\") or instance.get(\"identifier\") == \"\":\n",
    "        return None\n",
    "    \n",
    "    if not instance.get(\"name\") or instance.get(\"name\") == \"\":\n",
    "        return None\n",
    "        \n",
    "    if not instance.get(\"campus\") or instance.get(\"campus\") == \"\":\n",
    "        return None\n",
    "    \n",
    "    # Crear el item procesado SOLO con propiedades permitidas en el schema\n",
    "    processed_item = {\n",
    "        \"identifier\": instance[\"identifier\"],\n",
    "        \"name\": instance[\"name\"],\n",
    "        \"campus\": instance[\"campus\"]\n",
    "    }\n",
    "    \n",
    "    # Aplicar defaults para campos opcionales/con valores por defecto\n",
    "    processed_item[\"information\"] = instance.get(\"information\", \"\")\n",
    "    processed_item[\"categories\"] = instance.get(\"categories\", [])\n",
    "    \n",
    "    # Procesar faculties - convertir string a array si es necesario\n",
    "    faculties = instance.get(\"faculties\", [])\n",
    "    if isinstance(faculties, str):\n",
    "        processed_item[\"faculties\"] = [faculties]\n",
    "    elif isinstance(faculties, list):\n",
    "        processed_item[\"faculties\"] = faculties\n",
    "    else:\n",
    "        processed_item[\"faculties\"] = []\n",
    "    \n",
    "    # floors es completamente opcional - solo agregar si existe\n",
    "    if \"floors\" in instance:\n",
    "        processed_item[\"floors\"] = instance[\"floors\"]\n",
    "    \n",
    "    return processed_item\n",
    "\n",
    "# Procesamiento\n",
    "processed_properties = []\n",
    "murio = []\n",
    "eliminados = 0\n",
    "\n",
    "for i, instance in enumerate(properties):\n",
    "    processed_item = process_item(instance)\n",
    "    \n",
    "    if processed_item is not None:\n",
    "        try:\n",
    "            # Validar el item procesado\n",
    "            validate(instance=processed_item, schema=schema)\n",
    "            processed_properties.append(processed_item)\n",
    "        except ValidationError as e:\n",
    "            murio.append({\n",
    "                \"item\": processed_item,\n",
    "                \"error\": str(e.message)\n",
    "            })\n",
    "    else:\n",
    "        eliminados += 1\n",
    "\n",
    "print(f\"Valores iniciales: {len(properties)}\")\n",
    "print(f\"Items eliminados (falta id/name/campus): {eliminados}\")\n",
    "print(f\"Total de items válidos: {len(processed_properties)}\")\n",
    "print(f\"Total de items inválidos: {len(murio)}\")\n",
    "print(f\"\\nItems procesados válidos: {len(processed_properties)}\")\n",
    "\n",
    "# Mostrar algunos ejemplos de items válidos\n",
    "if processed_properties:\n",
    "    print(f\"\\nPrimeros 3 items válidos:\")\n",
    "    for i, item in enumerate(processed_properties[:3]):\n",
    "        print(f\"  {i+1}: {item}\")\n",
    "\n",
    "# Mostrar items que murieron en validación\n",
    "if murio:\n",
    "    print(f\"\\nItems que fallaron validación:\")\n",
    "    for i, item in enumerate(murio):\n",
    "        print(f\"  {i+1}: Error: {item['error']}\")\n",
    "        print(f\"      Item: {item['item']}\")"
   ]
  },
  {
   "cell_type": "code",
   "execution_count": 9,
   "metadata": {},
   "outputs": [],
   "source": [
    "for f in features:\n",
    "    f[\"properties\"] = process_item(f[\"properties\"])"
   ]
  },
  {
   "cell_type": "code",
   "execution_count": 10,
   "metadata": {},
   "outputs": [],
   "source": [
    "places_dict[\"features\"] = features"
   ]
  },
  {
   "cell_type": "code",
   "execution_count": 11,
   "metadata": {},
   "outputs": [],
   "source": [
    "with open(\"../data/places.json\", \"w\") as places_file:\n",
    "    json.dump(places_dict, places_file, indent=2, ensure_ascii=False)\n"
   ]
  },
  {
   "cell_type": "code",
   "execution_count": 72,
   "metadata": {},
   "outputs": [
    {
     "data": {
      "text/plain": [
       "{'CC', 'LC', 'OR', 'SJ', 'VR'}"
      ]
     },
     "execution_count": 72,
     "metadata": {},
     "output_type": "execute_result"
    }
   ],
   "source": [
    "features = places_dict[\"features\"]\n",
    "campus = set(map(lambda x: x[\"properties\"][\"campus\"], features))\n",
    "campus"
   ]
  },
  {
   "cell_type": "code",
   "execution_count": 73,
   "metadata": {},
   "outputs": [
    {
     "data": {
      "text/plain": [
       "{'auditorium',\n",
       " 'bath',\n",
       " 'building',\n",
       " 'campus',\n",
       " 'classroom',\n",
       " 'computers',\n",
       " 'faculty',\n",
       " 'financial',\n",
       " 'food_lunch',\n",
       " 'laboratory',\n",
       " 'library',\n",
       " 'other',\n",
       " 'park_bicycle',\n",
       " 'parking',\n",
       " 'photocopy',\n",
       " 'shop',\n",
       " 'sports_place',\n",
       " 'studyroom',\n",
       " 'trash',\n",
       " 'water',\n",
       " 'yard'}"
      ]
     },
     "execution_count": 73,
     "metadata": {},
     "output_type": "execute_result"
    }
   ],
   "source": [
    "from functools import reduce\n",
    "\n",
    "categories = reduce(\n",
    "    lambda acc, x: acc.union(set(x[\"properties\"][\"categories\"])), \n",
    "    features, \n",
    "    set()\n",
    ")\n",
    "\n",
    "categories"
   ]
  },
  {
   "cell_type": "code",
   "execution_count": 74,
   "metadata": {},
   "outputs": [
    {
     "data": {
      "text/plain": [
       "{'type': 'Feature',\n",
       " 'properties': {'identifier': 'bienvenida_2025-19',\n",
       "  'name': 'Cristales de colores. Educación',\n",
       "  'campus': 'SJ',\n",
       "  'information': '',\n",
       "  'categories': ['other'],\n",
       "  'faculties': [],\n",
       "  'floors': [1]},\n",
       " 'geometry': {'type': 'Point',\n",
       "  'coordinates': [-70.61404824737933, -33.49801815724207]}}"
      ]
     },
     "execution_count": 74,
     "metadata": {},
     "output_type": "execute_result"
    }
   ],
   "source": [
    "features[0]"
   ]
  },
  {
   "cell_type": "code",
   "execution_count": 75,
   "metadata": {},
   "outputs": [
    {
     "data": {
      "text/plain": [
       "1263"
      ]
     },
     "execution_count": 75,
     "metadata": {},
     "output_type": "execute_result"
    }
   ],
   "source": [
    "features = places_dict[\"features\"]\n",
    "n_ids = len(set(map(lambda x: x[\"properties\"][\"identifier\"], features)))\n",
    "n_ids"
   ]
  },
  {
   "cell_type": "code",
   "execution_count": 76,
   "metadata": {},
   "outputs": [
    {
     "name": "stdout",
     "output_type": "stream",
     "text": [
      "Total de features: 1263\n",
      "IDs únicos: 1263\n",
      "IDs duplicados: {}\n",
      "\n",
      "Lista de IDs duplicados: []\n",
      "\n",
      "IDs duplicados (método alternativo): []\n"
     ]
    }
   ],
   "source": [
    "from collections import Counter\n",
    "\n",
    "# Opción 1: Usando Counter para contar ocurrencias de cada ID\n",
    "all_ids = [x[\"properties\"][\"identifier\"] for x in features]\n",
    "id_counts = Counter(all_ids)\n",
    "\n",
    "# Encontrar IDs duplicados (que aparecen más de 1 vez)\n",
    "duplicated_ids = {id_val: count for id_val, count in id_counts.items() if count > 1}\n",
    "\n",
    "print(f\"Total de features: {len(features)}\")\n",
    "print(f\"IDs únicos: {len(set(all_ids))}\")\n",
    "print(f\"IDs duplicados: {duplicated_ids}\")\n",
    "\n",
    "# Opción 2: Mostrar detalles de los items con IDs duplicados\n",
    "if duplicated_ids:\n",
    "    print(\"\\nDetalles de los items con IDs duplicados:\")\n",
    "    for dup_id in duplicated_ids.keys():\n",
    "        print(f\"\\nID duplicado: '{dup_id}' (aparece {duplicated_ids[dup_id]} veces)\")\n",
    "        items_with_dup_id = [f for f in features if f[\"properties\"][\"identifier\"] == dup_id]\n",
    "        \n",
    "        for i, item in enumerate(items_with_dup_id, 1):\n",
    "            print(f\"  {i}. Name: {item['properties']['name']}\")\n",
    "            print(f\"     Categories: {item['properties']['categories']}\")\n",
    "            print(f\"     Campus: {item['properties']['campus']}\")\n",
    "            print(f\"     Faculties: {item['properties']['faculties']}\")\n",
    "\n",
    "# Opción 3: Solo obtener la lista de IDs que están duplicados\n",
    "duplicate_ids_only = [id_val for id_val, count in id_counts.items() if count > 1]\n",
    "print(f\"\\nLista de IDs duplicados: {duplicate_ids_only}\")\n",
    "\n",
    "# Opción 4: Encontrar duplicados usando set (alternativa)\n",
    "seen_ids = set()\n",
    "duplicate_ids_alt = set()\n",
    "\n",
    "for feature in features:\n",
    "    id_val = feature[\"properties\"][\"identifier\"]\n",
    "    if id_val in seen_ids:\n",
    "        duplicate_ids_alt.add(id_val)\n",
    "    else:\n",
    "        seen_ids.add(id_val)\n",
    "\n",
    "print(f\"\\nIDs duplicados (método alternativo): {list(duplicate_ids_alt)}\")"
   ]
  }
 ],
 "metadata": {
  "kernelspec": {
   "display_name": ".venv",
   "language": "python",
   "name": "python3"
  },
  "language_info": {
   "codemirror_mode": {
    "name": "ipython",
    "version": 3
   },
   "file_extension": ".py",
   "mimetype": "text/x-python",
   "name": "python",
   "nbconvert_exporter": "python",
   "pygments_lexer": "ipython3",
   "version": "3.12.3"
  }
 },
 "nbformat": 4,
 "nbformat_minor": 2
}
